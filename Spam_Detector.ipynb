{
  "cells": [
    {
      "cell_type": "code",
      "execution_count": null,
      "metadata": {
        "colab": {
          "base_uri": "https://localhost:8080/"
        },
        "id": "jSSVzUY_Hmzv",
        "outputId": "d0ff2c03-c1a7-40ff-82c4-db4a626f8b41"
      },
      "outputs": [
        {
          "output_type": "stream",
          "name": "stdout",
          "text": [
            "Drive already mounted at /content/drive; to attempt to forcibly remount, call drive.mount(\"/content/drive\", force_remount=True).\n"
          ]
        }
      ],
      "source": [
        "from google.colab import drive\n",
        "drive.mount('/content/drive')"
      ]
    },
    {
      "cell_type": "code",
      "execution_count": null,
      "metadata": {
        "id": "XN1R_BLwh6Fm"
      },
      "outputs": [],
      "source": [
        "#!/usr/bin/env python3\n",
        "# -*- coding: utf-8 -*-\n",
        "\"\"\"\n",
        "Created on Tue Oct 11 11:58:32 2022\n",
        "\n",
        "@Author:     Alessio Borgi\n",
        "@Contact :   borgi.1952442@studenti.uniroma1.it\n",
        "             alessioborgi3@gmail.com\n",
        "@Filename:   Spam_Detector.py\n",
        "\n",
        "@Project_Field: NLP(Natural Language Processing)\n",
        "@Project_Goal:  Classification of Emails in either Spam or Ham.\n",
        "\"\"\"\n",
        "\n",
        "''' #######       0° PART: LIBRARIES       #######'''\n",
        "\n",
        "'''STEP 0: IMPORTING NEEDED LIBRARIES'''\n",
        "import pandas as pd                                                     #Library that will be used for importing the data using Pandas Dataframes from a csv file.\n",
        "import re                                                               #Library that will be used for sobstituting some strings in the Pre-Processing Step.\n",
        "import string                                                           #Library that will be used during the Pre-Processing Step.\n",
        "import numpy as np                                                      #Library that will be used for manipulation.\n",
        "from sklearn.model_selection import train_test_split                    #Library that will be used in the Splitting-Step for doing the Train-Test Split.\n",
        "from sklearn.feature_extraction.text import ENGLISH_STOP_WORDS          #Library that will be used for deleting stop words from the email in the Pre-processing step.\n",
        "from sklearn.preprocessing import LabelEncoder                          #Library that will be used for creating a Label Encoder due to the necessity of providing numbers \n",
        "                                                                        #to the model as targets.\n",
        "from keras.models import save_model                                     #Library that will be used for saving the Model once it is trained. \n",
        "from keras.preprocessing.text import Tokenizer                          #Library that will be used to Tokenize the emails.\n",
        "from keras_preprocessing.sequence import pad_sequences                  #Library that will be used for the Padding of the Tokens.\n",
        "from keras.layers import Dense, Input, LSTM, Embedding                  #Library that allows to import the LSTM Model.\n",
        "from keras.layers import Bidirectional, Dropout, Activation             #Library that allows to import the various tools we can set onto the model.\n",
        "from keras.models import Model                                          #Library that will be used for the Model.\n",
        "import tensorflow as tf                                                 #Library that will be used for making neural nets.\n",
        "from tensorflow import keras                                            #Library that will be used, more specific, for making neural nets.\n",
        "import matplotlib.pyplot as plt                                         #Library that will be used for making some graphs.\n",
        "from sklearn.metrics import confusion_matrix,f1_score                   #Library that will be use for making some statistics and computations on the result (post-processing).\n",
        "from sklearn.metrics import precision_score,recall_score                #Library that will be use for making some statistics and computations on the result (post-processing).\n",
        "import seaborn as sns                                                   #Library that will be used for making some graphs.\n"
      ]
    },
    {
      "cell_type": "code",
      "execution_count": null,
      "metadata": {
        "colab": {
          "base_uri": "https://localhost:8080/"
        },
        "id": "5b1AUEWFHeu4",
        "outputId": "58e88bf4-4d6f-4624-ef91-26899a41823d"
      },
      "outputs": [
        {
          "output_type": "stream",
          "name": "stderr",
          "text": [
            "/usr/local/lib/python3.7/dist-packages/ipykernel_launcher.py:74: VisibleDeprecationWarning: Creating an ndarray from ragged nested sequences (which is a list-or-tuple of lists-or-tuples-or ndarrays with different lengths or shapes) is deprecated. If you meant to do this, you must specify 'dtype=object' when creating the ndarray.\n",
            "/usr/local/lib/python3.7/dist-packages/ipykernel_launcher.py:76: VisibleDeprecationWarning: Creating an ndarray from ragged nested sequences (which is a list-or-tuple of lists-or-tuples-or ndarrays with different lengths or shapes) is deprecated. If you meant to do this, you must specify 'dtype=object' when creating the ndarray.\n"
          ]
        }
      ],
      "source": [
        "\n",
        "''' #######       1° PART: FROM IMPORTING DATA TO PADDING IT       #######'''\n",
        "\n",
        "'''STEP 1: IMPORTING THE DATA'''\n",
        "''' \n",
        "    In this step I will make use of a pre-gathered dataset, downloaded from the UCI Machine Learning Repository at the following link:\n",
        "    Dataset: http://archive.ics.uci.edu/ml/datasets/Spambase/\n",
        "    \n",
        "    I Import the Dataset from a cvs file. It is composed of two columns(features): Email and Label, i.e. the Email Text and its classification, respectively. \n",
        "    The Label is set to 1 if I have a Spam Email and to 0 if I have a Ham Email.\n",
        "'''\n",
        "\n",
        "#IMPORTING DATASET:\n",
        "dataset = pd.read_csv('/content/drive/MyDrive/Colab/Dataset_SpamHam.csv')   #Importing the Dataset as a Pandas Dataframe.\n",
        "# dataset = pd.read_csv('Dataset_SpamHam.csv')                            \n",
        "# print(dataset.head())                                                     #Remove the comment to see the first 5 examples of the dataset.\n",
        "\n",
        "\n",
        "'''STEP 2: SPLITTING THE DATA AND PRE-PROCESSING PIPELINE'''\n",
        "'''\n",
        "    In this step I first do the usual split in Training and Test Data and their correspective Labels.\n",
        "    Once I have done this sub-step, I go through the Pre-Processing Step. Here I have to transform the raw data I received (data present in the UCI Dataset)\n",
        "    into meaningful data. \n",
        "    As a first step of the PRE-PROCESSING I go through a cleaning of the data, modifying it. I perform the following transformations/modifications:\n",
        "    - HYPERLINKS REMOVAL: I remove any hyperlink from the emails.\n",
        "    - LOWERING LETTERS' CASE: I lower all the words in such a way to avoid to have more \"versions\" of the same word. \n",
        "    - PUNCTUATION REMOVAL: I remove punctuation (!,?, etc...), in such a way always to reach a sort of standardization in the words version.\n",
        "    - STOP WORDS REMOVAL: I remove those words that are \"neutral\", like the articles \"the\", \"a\", etc..., since they do not provide important info.\n",
        "\n",
        "    After this, I Create a Label Encoder in such a way to Encode Labels as numbers, since the model will expect the target variable in this way and \n",
        "    not as a string.\n",
        "'''\n",
        "#SPLITTING DATA:\n",
        "emails_train, emails_test, target_train, target_test = train_test_split(dataset.Email,dataset.Label,test_size = 0.3) #Performing the 70-30 Data Split.\n",
        "# print(dataset.info)                                                       #Printing the Dataset information.\n",
        "\n",
        "#PRE-PROCESSING\n",
        "def pre_process(word):\n",
        "    '''Pre-Processing Function'''\n",
        "    \n",
        "    #HYPERLINKS REMOVAL & LOWERING LETTERS' CASE:\n",
        "    word_without_hyper = re.sub('http\\S+', '', word).lower()\n",
        "    #PUNCTATION REMOVAL:\n",
        "    word_without_punctuation = ((word_without_hyper.translate(str.maketrans(dict.fromkeys(string.punctuation)))).strip()).replace('\\n', '')\n",
        "    #STOP WORDS REMOVAL:\n",
        "    f_word = ''.join([i for i in word_without_punctuation if i not in ENGLISH_STOP_WORDS])\n",
        "    # print(f_word)\n",
        "    \n",
        "    return f_word                                                           #Returning the final pre-processed email.\n",
        "\n",
        "\n",
        "#PRE-PROCESSING APPLICATION:\n",
        "x_train = [pre_process(o) for o in emails_train]                            #Applying the Pre-Processing step to the Train Part.\n",
        "x_test = [pre_process(o) for o in emails_test]                              #Applying the Pre-Processing step to the Test Part.\n",
        "\n",
        "#LABELING ENCODER CREATION\n",
        "label_encoder = LabelEncoder()                                              #Creation of the Label Encoder object.\n",
        "train_label = label_encoder.fit_transform(target_train.values)              #Encoding of the Train Labels.\n",
        "test_label = label_encoder.transform(target_test.values)                    #Encoding of the Test Labels.\n",
        "# test_label = label_encoder.fit_transform(target_test.values)\n",
        "# print(train_label)\n",
        "\n",
        "'''STEP 3: TOKENIZING THE DATA'''\n",
        "'''\n",
        "    In this step I apply a very important step: Tokenization. Tokenizing consists in splitting text into smaller parts (a.k.a. Tokens) that are \n",
        "    fed to the Neural Net as a feature. This step will tokenize the text into tokens and it will keep only the words that occurs the most in the\n",
        "    text. I let this decision vary by setting the \"max_meaningful_words\" variable, in such a way to be able to select the top frequent words to consider.\n",
        "'''\n",
        "\n",
        "#TOKENIZING:\n",
        "max_meaningful_words = 70000                                                #I set how many meaningful words I want to keep into account, (i.e the number of rows in the \n",
        "                                                                            #Embedding Vector).\n",
        "tokenizer = Tokenizer(num_words = max_meaningful_words)                     #Creation of the Tokenizer object with the maximum number of words to keep into account set.\n",
        "tokenizer.fit_on_texts(x_train)                                             #Applying the tokenization to the Training Data.\n",
        "x_train_features = np.array(tokenizer.texts_to_sequences(x_train))          #Transforming the Training data into an array.\n",
        "# tokenizer.fit_on_texts(x_test)                                            #Applying the tokenization to the Training Data.\n",
        "x_test_features = np.array(tokenizer.texts_to_sequences(x_test))            #Transforming the Test data into an array.\n",
        "\n",
        "'''STEP 4: PADDING THE DATA'''\n",
        "'''\n",
        "    In this step I would like to reach a sort of Standardization under the size point of view. This means that, through this PADDING step, I will make \n",
        "    the tokens for all the emails ot have an equal size. This is useful, because when I send batches of data in input, information might be lost when \n",
        "    inputs are of different length. The length of all tokenized emails must be equal to the maximum length of the token.\n",
        "'''\n",
        "\n",
        "#PADDING:\n",
        "max_padding = 2000                                                          #Maximum Padding variable to be set.\n",
        "x_train_features = pad_sequences(x_train_features,maxlen=max_padding)       #Applying Padding to the Training Data.\n",
        "x_test_features = pad_sequences(x_test_features,maxlen=max_padding)         #Applying Padding to the Test Data.\n",
        "# print(x_train_features[0])\n"
      ]
    },
    {
      "cell_type": "code",
      "execution_count": null,
      "metadata": {
        "colab": {
          "base_uri": "https://localhost:8080/"
        },
        "id": "VNpr_LU6gw6C",
        "outputId": "824aa6cf-11bc-4bc8-9123-9217ad49299f"
      },
      "outputs": [
        {
          "output_type": "stream",
          "name": "stdout",
          "text": [
            "Epoch 1/10\n",
            "16/16 [==============================] - 50s 3s/step - loss: 0.6422 - accuracy: 0.8469 - val_loss: 0.5650 - val_accuracy: 0.8666\n",
            "Epoch 2/10\n",
            "16/16 [==============================] - 44s 3s/step - loss: 0.4775 - accuracy: 0.8662 - val_loss: 0.3583 - val_accuracy: 0.8666\n",
            "Epoch 3/10\n",
            "16/16 [==============================] - 45s 3s/step - loss: 0.3847 - accuracy: 0.8672 - val_loss: 0.3101 - val_accuracy: 0.8666\n",
            "Epoch 4/10\n",
            "16/16 [==============================] - 44s 3s/step - loss: 0.3072 - accuracy: 0.8703 - val_loss: 0.2281 - val_accuracy: 0.8666\n",
            "Epoch 5/10\n",
            "16/16 [==============================] - 43s 3s/step - loss: 0.2121 - accuracy: 0.9090 - val_loss: 0.1548 - val_accuracy: 0.9522\n",
            "Epoch 6/10\n",
            "16/16 [==============================] - 44s 3s/step - loss: 0.1463 - accuracy: 0.9597 - val_loss: 0.1110 - val_accuracy: 0.9731\n",
            "Epoch 7/10\n",
            "16/16 [==============================] - 44s 3s/step - loss: 0.1097 - accuracy: 0.9782 - val_loss: 0.0855 - val_accuracy: 0.9779\n",
            "Epoch 8/10\n",
            "16/16 [==============================] - 44s 3s/step - loss: 0.0769 - accuracy: 0.9851 - val_loss: 0.0621 - val_accuracy: 0.9868\n",
            "Epoch 9/10\n",
            "16/16 [==============================] - 44s 3s/step - loss: 0.0581 - accuracy: 0.9869 - val_loss: 0.0655 - val_accuracy: 0.9833\n",
            "Epoch 10/10\n",
            "16/16 [==============================] - 45s 3s/step - loss: 0.0473 - accuracy: 0.9869 - val_loss: 0.0575 - val_accuracy: 0.9862\n"
          ]
        },
        {
          "output_type": "stream",
          "name": "stderr",
          "text": [
            "WARNING:absl:Found untraced functions such as lstm_cell_10_layer_call_fn, lstm_cell_10_layer_call_and_return_conditional_losses, lstm_cell_11_layer_call_fn, lstm_cell_11_layer_call_and_return_conditional_losses while saving (showing 4 of 4). These functions will not be directly callable after loading.\n"
          ]
        }
      ],
      "source": [
        "''' #######       2° PART: MODEL IMPLEMENTATION AND TRAINING       #######'''\n",
        "\n",
        "'''STEP 5: MODEL IMPLEMENTATION'''\n",
        "'''\n",
        "    For the Model Selection part, I have opted for a RNN, and in particular an LSTM, that allows me, thanks to its Memory, to keep into account also the \n",
        "    context of the words. Moreover, in order to perform LSTM even in reverse orde, I will make use of a Bi-Directional LSTM.\n",
        "    \n",
        "    As a first step, I need to convert my text data in Embedding. Then I can create the Neural Network Model.\n",
        "    - Model Type: Bi-Directional LSTM\n",
        "    - Activation Functions: SELU and SIGMOID\n",
        "    - Loss Function: Log-Loss(Binary Cross-Entropy)\n",
        "    - Optimizer: Adam\n",
        "    - # Epochs: 20\n",
        "    - Dropout Regularization: 0.1\n",
        "'''\n",
        "\n",
        "#EMBEDDING CREATION:\n",
        "# create the model\n",
        "embedding_vector_len = 32                                                   #I set the size of the Output Vector from each Layer of the LSTM.\n",
        "model = tf.keras.Sequential()                                               #Creation of a Sequential Model.\n",
        "model.add(Embedding(max_meaningful_words, embedding_vector_len,             #Creation of an Embedding Layer to be vectorized.\n",
        "                    input_length=max_padding))\n",
        "model.add(Bidirectional(tf.keras.layers.LSTM(16)))                          #Adding the Bi-Directional LSTM.\n",
        "\n",
        "model.add(Dense(16, activation='relu'))                                   #We can set the activation function of the Model to be the RELU.\n",
        "# model.add(Dense(8, activation='selu'))                                     #We can set the activation function of the Model to be the SELU.\n",
        "model.add(Dropout(0.5))                                                     #Adding some Dropout, that allows to Regularize the Neural Network by dropping temporarily some \n",
        "                                                                            #nodes from the neural net at each epoch.\n",
        "model.add(Dense(1, activation='sigmoid'))                                   #Adding the Sigmoid Activation Function to normalize the output, and thus see them as probabilities.\n",
        "model.compile(loss='binary_crossentropy', optimizer='adam',                 #Setting the loss (LOG-LOSS or Binary-Cross entropy). I set the Optimizer to be the Adam one, \n",
        "               metrics=['accuracy'])                                        #since it is the best one (instead of using GD or others).\n",
        "# print(model.summary())                                                    #Printing the Neural Network Summary.\n",
        "description = model.fit(x_train_features, train_label, batch_size = 256,    #Setting teh Description of the Neural Network, indicating batch size, number of epochs.\n",
        "                        epochs = 10, validation_data = \n",
        "                        (x_test_features, test_label))\n",
        "model.save('/content/drive/MyDrive/Colab/Models/Spam_Detector_v_0.0.1_RELU_16_16_Dropout_0.5')     #Saving the Model into a location, in such a way to be able to load it after without re-training it.\n"
      ]
    },
    {
      "cell_type": "code",
      "execution_count": null,
      "metadata": {
        "colab": {
          "base_uri": "https://localhost:8080/"
        },
        "id": "CG_ycrmuFPYB",
        "outputId": "614aeee1-d98c-446a-eac8-3d7e68312b48"
      },
      "outputs": [
        {
          "output_type": "stream",
          "name": "stderr",
          "text": [
            "WARNING:absl:Found untraced functions such as lstm_cell_1_layer_call_fn, lstm_cell_1_layer_call_and_return_conditional_losses, lstm_cell_2_layer_call_fn, lstm_cell_2_layer_call_and_return_conditional_losses while saving (showing 4 of 4). These functions will not be directly callable after loading.\n"
          ]
        }
      ],
      "source": [
        "model.save('/content/drive/MyDrive/Colab/Models/Spam_Detector_v_0.0.3')"
      ]
    },
    {
      "cell_type": "code",
      "execution_count": null,
      "metadata": {
        "colab": {
          "base_uri": "https://localhost:8080/",
          "height": 648
        },
        "id": "BnfOfuAJg1S4",
        "outputId": "ce84eb96-f7e9-486b-b786-b8413981c389"
      },
      "outputs": [
        {
          "output_type": "display_data",
          "data": {
            "text/plain": [
              "<Figure size 432x288 with 1 Axes>"
            ],
            "image/png": "[encoded data removed]"
          },
          "metadata": {
            "needs_background": "light"
          }
        },
        {
          "output_type": "stream",
          "name": "stdout",
          "text": [
            "53/53 [==============================] - 13s 233ms/step\n",
            "Precision: 99.50495%\n",
            "Recall: 90.13453%\n",
            "F1 Score: 94.58824%\n"
          ]
        },
        {
          "output_type": "execute_result",
          "data": {
            "text/plain": [
              "0.9458823529411764"
            ]
          },
          "metadata": {},
          "execution_count": 9
        },
        {
          "output_type": "display_data",
          "data": {
            "text/plain": [
              "<Figure size 432x288 with 2 Axes>"
            ],
            "image/png": "[encoded data removed]"
          },
          "metadata": {
            "needs_background": "light"
          }
        }
      ],
      "source": [
        "\n",
        "''' #######       3° PART: PERFORMANCE REVISION       #######'''\n",
        "'''\n",
        "    In this step, I will focus on some performances measurments. Indeed, as Post-processing step, I need to know whether the Model I have built\n",
        "    is effective or not. \n",
        "'''\n",
        "\n",
        "'''STEP 6: REVISION: PERFORMANCE FOCUS'''\n",
        "'''\n",
        "    I will make use of the Accuracy, but also of other very important metrics, such as the Precision, the Recall and the F1 Score.\n",
        "    While the Accuracy says to me effectively what is the percentage of guessing the right value for the Email (Spam VS Ham), I have the Precision\n",
        "    to indicating the fraction of relevant nstances from all the relevant instances. Instead, the Recall, helps out to understand how complete the \n",
        "    results are.\n",
        "    At the end, I have the F1 Score (that in practice is the harmonic mean of precision and recall).\n",
        "'''\n",
        "\n",
        "#ACCURACY VS EPOCHS:\n",
        "plt.title('Model Accuracy')                                                 #Setting the Title of the Plot.\n",
        "plt.ylabel('Accuracy Value')                                                #Setting the y label for the Plot.\n",
        "plt.xlabel('Epoch Number')                                                  #Setting the x label for the Plot.\n",
        "plt.legend(['train', 'test'], loc='upper left')                             #Setting the Legend to be in the upper left part of the plot.\n",
        "plt.plot(description.history['accuracy'])                                   #Printing out the Training Data Accuracy.\n",
        "plt.plot(description.history['val_accuracy'])                               #Printing out the Test Data Accuracy.\n",
        "plt.grid()                                                                  #Adding a grid to the plot.\n",
        "plt.show()                                                                  #Showing the plot.\n",
        "\n",
        "#PREDICTING THE LABELS:\n",
        "y_predict  = [1 if o > 0.5 else 0 for o in model.predict(x_test_features)]  #Predicting the labels for the test data.\n",
        "\n",
        "#COMPUTING THE CONFUSION MATRIX:\n",
        "conf_matrix = confusion_matrix(test_label,y_predict)                        #Computing the Confusion Matrix for the same data.\n",
        "\n",
        "#GETTING ALL THE VALUES FROM CONFUSION MATRIX:  \n",
        "#tn, fp, fn, tp = confusion_matrix(test_label,y_predict).ravel()             #Splitting the Confusion Matrix for seeing what are all the values( True Negative, Fase Positive, False Negative, True Positive).\n",
        "\n",
        "#PLOTTING THE CONFUSION MATRIX:\n",
        "ax= plt.subplot()                                                           #Creation of a subplot.\n",
        "ax.set_title('Confusion Matrix')                                            #Setting the title.\n",
        "ax.set_xlabel('Predicted labels')                                           #Setting the x label.\n",
        "ax.set_ylabel('True labels')                                                #Setting the y label.\n",
        "sns.heatmap(conf_matrix, annot = True, ax = ax,cmap='Blues',fmt='');        #Plotting out the Confusion Matrix.\n",
        "\n",
        "#COMPUTING PRECISION, RECALL AND F1 SCORE\n",
        "print(\"Precision: {:.5f}%\".format(100 *                                     #Computing the Precision Score.\n",
        "                                  precision_score(test_label, y_predict)))  \n",
        "print(\"Recall: {:.5f}%\".format(100 * recall_score(test_label, y_predict)))  #Computing the Recall Score.\n",
        "print(\"F1 Score: {:.5f}%\".format(100 * f1_score(test_label,y_predict)))     #Computing the F1 Score.\n",
        "f1_score(test_label,y_predict)\n"
      ]
    }
  ],
  "metadata": {
    "colab": {
      "provenance": []
    },
    "kernelspec": {
      "display_name": "Python 3",
      "name": "python3"
    },
    "language_info": {
      "name": "python"
    }
  },
  "nbformat": 4,
  "nbformat_minor": 0
}